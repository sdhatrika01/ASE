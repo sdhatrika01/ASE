{
 "cells": [
  {
   "cell_type": "markdown",
   "id": "dc6b9370",
   "metadata": {},
   "source": [
    "### Import Libraries"
   ]
  },
  {
   "cell_type": "code",
   "execution_count": 1,
   "id": "7d91b983",
   "metadata": {},
   "outputs": [],
   "source": [
    "# supresses warning messages\n",
    "import warnings\n",
    "warnings.filterwarnings(\"ignore\")"
   ]
  },
  {
   "cell_type": "code",
   "execution_count": 2,
   "id": "19b513fd",
   "metadata": {},
   "outputs": [],
   "source": [
    "import pandas as pd # for data manipulation and analysis\n",
    "import numpy as np # numerical computations \n",
    "import hashlib # secure hash and message digest algorithms\n",
    "import os # interacting with operating sys"
   ]
  },
  {
   "cell_type": "code",
   "execution_count": 3,
   "id": "c830f1a8",
   "metadata": {},
   "outputs": [
    {
     "name": "stdout",
     "output_type": "stream",
     "text": [
      "['Arson009_x264.mp4', 'Arson012_x264.mp4', 'Arson018_x264.mp4', 'Arson037_x264.mp4', 'Arson049_x264.mp4', 'Burglary078_x264.mp4', 'Burglary080_x264.mp4', 'Burglary081_x264.mp4', 'Burglary092_x264.mp4', 'Burglary093_x264.mp4', 'Burglary097_x264.mp4', 'Burglary098_x264.mp4', 'Explosion021_x264.mp4', 'Explosion025_x264.mp4', 'Explosion027_x264.mp4', 'Explosion034_x264.mp4', 'Explosion037_x264.mp4', 'Explosion039_x264.mp4', 'Explosion044_x264.mp4', 'Explosion045_x264.mp4', 'Explosion048_x264.mp4', 'Explosion050_x264.mp4']\n"
     ]
    }
   ],
   "source": [
    "# reads the list of filenames (i.e., video labels) in the \"data\" directory \n",
    "# and saves them into a Python list called \"videos_labels\".\n",
    "videos_labels=os.listdir(\"data\")\n",
    "print(videos_labels)"
   ]
  },
  {
   "cell_type": "code",
   "execution_count": 4,
   "id": "4f982f35",
   "metadata": {},
   "outputs": [],
   "source": [
    "df=pd.DataFrame()\n",
    "df[\"Video Names\"]=videos_labels"
   ]
  },
  {
   "cell_type": "code",
   "execution_count": 5,
   "id": "2e139b1b",
   "metadata": {},
   "outputs": [],
   "source": [
    "# calculates SHA256 hashes of each video file in the \"data\" directory and saves the hashes in a list called \"Features\". \n",
    "BLOCK_SIZE = 65536\n",
    "Features=[]\n",
    "for i in range(len(videos_labels)):\n",
    "    video=videos_labels[i]\n",
    "    filepath=os.path.join(\"data\",video)\n",
    "    file_hash = hashlib.sha256()\n",
    "    with open(filepath, 'rb') as f: \n",
    "        fb = f.read(BLOCK_SIZE)\n",
    "        while len(fb) > 0:\n",
    "            file_hash.update(fb)\n",
    "            fb = f.read(BLOCK_SIZE)\n",
    "    Features.append(file_hash.hexdigest())"
   ]
  },
  {
   "cell_type": "code",
   "execution_count": 6,
   "id": "bfcded76",
   "metadata": {},
   "outputs": [
    {
     "name": "stdout",
     "output_type": "stream",
     "text": [
      "['e301227db2da73824850c0f8969bca165c4c340b4b41d64c5cb8c875fa5dc815', '1e47a786d515ef507116d00078fea34bf1f8fb6d682af56eed56b75c467ad801', 'f9cd8c8da985464c9be8512cd2592c17ea3e0b6ebbd91850518d9fca4fa964fe', 'd41918405876d409387b0a5c09c5c505ba5ccc06fbef65a13c4756f4d15cfae5', 'e9b9823013565898f833834efd4d22d37fab59cb9901e75b65a1db7c8ffd5c0a', '6f00c1786c9935c85ed9222ee4e6faab63eb73292eb01de66d78b0f18804ded3', '9d546019456a33318764f00b8d111c0d99710a89815a14a1c6d4a5fc06a6c2a3', '105ad78206b123709375f1a45e07d7355d089ec6c35c9f3a1c778a8edb05e027', 'b9ced188acef3112445277749917c7ba15f6f58d563630af9ed7a6d13b0030d4', '335387e4cbafe121f48abbe5e9d95b8d4b8de945bf341bd299cb23279b20ca84', '13b5a6fde097895e3069703d6188e2025f36954c4a43fd334845e4e8198473e0', 'e2c94fdd2f85514fb55d5b88b3b2f6d0d89db8634f0350c2f0ddfcd0f5e49676', '854c0e02b2cdb39ae475ce6b3a98dc8ce1fd4fa72d710ec23b3550ffe7c1d2e2', '702fed46e7a07a099254e8f01d55b43d2c8c93dd5dec2640b68d4a5646193a12', '2d18e88f0645d29db05bc53755fe4ca247ea9eab889726d2c5ebef4b5335b2b2', 'f3c866598f3793c84f483423521931e6f7bdcf27d2696d6e2b1aac84087304fe', '814688584192bb9be0a4a07dc9d76401ebf6d61190461d8a0f51a4d35feb8f11', '7c78669849243c27cef98ff428dbefa43a3869a2f11faf68c63138cbae9d1bf9', '3873853bc373f9f2037c393554a0cf046853d1c29e8d87ce3b3abd53ea6790b7', '0df8c396bf6c5827f567ffab38ad162660f8c76e2e61821164a4644ce55a1297', '3a11e026d09dd0614628afea5b4d9cb6d24e4dbc6c26923ea18ef34f079f5ccb', '589d7522a34b1242b30d0f346472bed6815ba6642d8a3beeb782648f7f4704bd']\n"
     ]
    }
   ],
   "source": [
    "print(Features)"
   ]
  },
  {
   "cell_type": "code",
   "execution_count": 7,
   "id": "9d8f6bdf",
   "metadata": {},
   "outputs": [],
   "source": [
    "df[\"features\"]=Features"
   ]
  },
  {
   "cell_type": "code",
   "execution_count": 8,
   "id": "62588eca",
   "metadata": {},
   "outputs": [
    {
     "data": {
      "text/html": [
       "<div>\n",
       "<style scoped>\n",
       "    .dataframe tbody tr th:only-of-type {\n",
       "        vertical-align: middle;\n",
       "    }\n",
       "\n",
       "    .dataframe tbody tr th {\n",
       "        vertical-align: top;\n",
       "    }\n",
       "\n",
       "    .dataframe thead th {\n",
       "        text-align: right;\n",
       "    }\n",
       "</style>\n",
       "<table border=\"1\" class=\"dataframe\">\n",
       "  <thead>\n",
       "    <tr style=\"text-align: right;\">\n",
       "      <th></th>\n",
       "      <th>Video Names</th>\n",
       "      <th>features</th>\n",
       "    </tr>\n",
       "  </thead>\n",
       "  <tbody>\n",
       "    <tr>\n",
       "      <th>0</th>\n",
       "      <td>Arson009_x264.mp4</td>\n",
       "      <td>e301227db2da73824850c0f8969bca165c4c340b4b41d6...</td>\n",
       "    </tr>\n",
       "    <tr>\n",
       "      <th>1</th>\n",
       "      <td>Arson012_x264.mp4</td>\n",
       "      <td>1e47a786d515ef507116d00078fea34bf1f8fb6d682af5...</td>\n",
       "    </tr>\n",
       "    <tr>\n",
       "      <th>2</th>\n",
       "      <td>Arson018_x264.mp4</td>\n",
       "      <td>f9cd8c8da985464c9be8512cd2592c17ea3e0b6ebbd918...</td>\n",
       "    </tr>\n",
       "    <tr>\n",
       "      <th>3</th>\n",
       "      <td>Arson037_x264.mp4</td>\n",
       "      <td>d41918405876d409387b0a5c09c5c505ba5ccc06fbef65...</td>\n",
       "    </tr>\n",
       "    <tr>\n",
       "      <th>4</th>\n",
       "      <td>Arson049_x264.mp4</td>\n",
       "      <td>e9b9823013565898f833834efd4d22d37fab59cb9901e7...</td>\n",
       "    </tr>\n",
       "  </tbody>\n",
       "</table>\n",
       "</div>"
      ],
      "text/plain": [
       "         Video Names                                           features\n",
       "0  Arson009_x264.mp4  e301227db2da73824850c0f8969bca165c4c340b4b41d6...\n",
       "1  Arson012_x264.mp4  1e47a786d515ef507116d00078fea34bf1f8fb6d682af5...\n",
       "2  Arson018_x264.mp4  f9cd8c8da985464c9be8512cd2592c17ea3e0b6ebbd918...\n",
       "3  Arson037_x264.mp4  d41918405876d409387b0a5c09c5c505ba5ccc06fbef65...\n",
       "4  Arson049_x264.mp4  e9b9823013565898f833834efd4d22d37fab59cb9901e7..."
      ]
     },
     "execution_count": 8,
     "metadata": {},
     "output_type": "execute_result"
    }
   ],
   "source": [
    "df.head()"
   ]
  },
  {
   "cell_type": "code",
   "execution_count": 9,
   "id": "4d8acbd8",
   "metadata": {},
   "outputs": [],
   "source": [
    "df.to_csv(\"Feature_Files/GlobalFeatureExtraction.csv\",index=False)"
   ]
  },
  {
   "cell_type": "markdown",
   "id": "8d8ebced",
   "metadata": {},
   "source": [
    "## Thank You"
   ]
  }
 ],
 "metadata": {
  "kernelspec": {
   "display_name": "Python 3 (ipykernel)",
   "language": "python",
   "name": "python3"
  },
  "language_info": {
   "codemirror_mode": {
    "name": "ipython",
    "version": 3
   },
   "file_extension": ".py",
   "mimetype": "text/x-python",
   "name": "python",
   "nbconvert_exporter": "python",
   "pygments_lexer": "ipython3",
   "version": "3.9.13"
  }
 },
 "nbformat": 4,
 "nbformat_minor": 5
}
